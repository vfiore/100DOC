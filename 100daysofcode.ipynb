{
 "cells": [
  {
   "cell_type": "code",
   "execution_count": null,
   "metadata": {
    "scrolled": true
   },
   "outputs": [],
   "source": [
    "%%html\n",
    "<b>Notebook collecting haphazard stuff relating to 100 Days of Code and thereabouts</b>\n",
    "\n"
   ]
  },
  {
   "cell_type": "markdown",
   "metadata": {},
   "source": [
    "Bite 2\n",
    "\n",
    "In this Bite we'll get you to take user input using the input builtin and see if it matches items within a list.\n",
    "\n",
    "In the while loop ask the user to enter a color and capture that input.\n",
    "\n",
    "Check to see whether they've entered 'quit'. If so, print bye and exit (break) the loop, effectively ending the function.\n",
    "\n",
    "If not, check to see whether the color (input) is in the VALID_COLORS color list. If it is, then print the color in lower case. If not, print Not a valid color and continue the loop.\n",
    "\n",
    "As you want to ask the user over and over again till they quit, you can use an infinite while loop. We already provided that in the template code, just code inside that loop."
   ]
  },
  {
   "cell_type": "code",
   "execution_count": null,
   "metadata": {
    "scrolled": true
   },
   "outputs": [],
   "source": [
    "VALID_COLORS = ['blue', 'yellow', 'red']\n",
    "\n",
    "\n",
    "def print_colors():\n",
    "    while True:\n",
    "        colore=str(input('color? (\"quit\" to quit)'))\n",
    "        if colore=='quit':\n",
    "            print('bye')\n",
    "            return \n",
    "        elif colore in VALID_COLORS:\n",
    "            print(colore)\n",
    "        else:\n",
    "            print('Not a valid color')\n",
    "        \n",
    "        \n",
    "print_colors()"
   ]
  },
  {
   "cell_type": "markdown",
   "metadata": {},
   "source": [
    "Bite 3\n",
    "\n",
    "You're given a dictionary of people and the number of games they've won.\n",
    "\n",
    "Use a for loop to iterate over the dictionary and print out the users name and how many games they've won in the following format: sara has won n games\n",
    "\n",
    "To make it human readable, pluralise the word game to suit the number of games won.\n",
    "\n",
    "\n",
    "\n"
   ]
  },
  {
   "cell_type": "code",
   "execution_count": null,
   "metadata": {
    "scrolled": true
   },
   "outputs": [],
   "source": [
    "games_won = dict(sara=0, bob=1, tim=5, julian=3, jim=1)\n",
    "\n",
    "\n",
    "def print_game_stats(games_won=games_won):\n",
    "    \"\"\"Loop through games_won's dict (key, value) pairs (dict.items)\n",
    "       printing (print, not return) how many games each person has won,\n",
    "       pluralize 'game' based on number.\n",
    "\n",
    "       Expected output (ignore the docstring's indentation):\n",
    "\n",
    "       sara has won 0 games\n",
    "       bob has won 1 game\n",
    "       tim has won 5 games\n",
    "       julian has won 3 games\n",
    "       jim has won 1 game\n",
    "\n",
    "       (Note that as of Python 3.7 - which we're using atm - dict insert order is retained\n",
    "        so no sorting is required for this Bite.)\n",
    "    \"\"\"\n",
    "    for nome in games_won.keys():\n",
    "        gms=games_won[nome]\n",
    "        stri='games'\n",
    "        if int(gms)==1: stri='game'\n",
    "        print(f'{nome} has won {gms} {stri}')\n",
    "\n",
    "print_game_stats(games_won)"
   ]
  },
  {
   "cell_type": "markdown",
   "metadata": {},
   "source": [
    "Bite 4\n",
    "\n",
    "Split up the message on newline (\\n) using the split builtin, then use the join builtin to stitch it together using a '|' (pipe).\n",
    "\n",
    "So Hello world:\\nI am coding in Python :)\\nHow awesome! would turn into: Hello world:|I am coding in Python :)|How awesome!\n",
    "\n",
    "Your code should work for other message strings as well.\n",
    "\n",
    "Note that as opposed to previous Intro Bites your need to return the new string!\n",
    "\n",
    "Also note that, although we wanted you to learn about split and join here, there are more ways to pull this one off (check out the forum upon resolving this Bite ...)\n"
   ]
  },
  {
   "cell_type": "markdown",
   "metadata": {},
   "source": [
    "\n",
    "Take the block of text provided and strip off the whitespace at both ends. Split the text by newline (\\n).\n",
    "\n",
    "Loop through the lines, for each line:\n",
    "\n",
    "strip off any leading spaces,\n",
    "check if the first character is lowercase,\n",
    "if so, split the line into words and get the last word,\n",
    "strip the trailing dot (.) and exclamation mark (!) from this last word,\n",
    "and finally add it to the results list.\n",
    "Return the results list."
   ]
  },
  {
   "cell_type": "code",
   "execution_count": null,
   "metadata": {
    "scrolled": true
   },
   "outputs": [],
   "source": [
    "from string import ascii_lowercase\n",
    "text = \"\"\"\n",
    "One really nice feature of Python is polymorphism: \\n\n",
    "using the same operation on different types of objects.\\n\n",
    "Let's talk about an elegant feature: slicing. You can use this on a string as well as a list for example 'pybites'[0:2] gives 'py'.  The first value is inclusive and the last one is exclusive so here we grab indexes 0 and 1, the \n",
    "letter p and y.\\n\n",
    "When you have a 0 index you can leave it out so can write this as 'pybites'[:2] but here is the kicker: you can use this \n",
    "on a list too!\\n\n",
    "and now you know about slicing from the end as well :)\\n\n",
    "keep enjoying our bites!\\n\n",
    "\"\"\"\n",
    "another_text = \"\"\"\n",
    "Take the block of text provided and strip() off\\n\n",
    "the whitespace at the ends. Split the whole block\\n \n",
    "up by newline.if the first character is lowercase, split it into words and add the last word\\n\n",
    " of that line to the results list.\\n\n",
    "Strip the trailing dot (.) and exclamation mark (!) from the word first.\\n\n",
    "  finally return the results list!\\n\n",
    "\"\"\"\n",
    "\n",
    "\n",
    "def slice_and_dice(text: str = text) -> list:\n",
    "    results = []\n",
    "    lines=text.lstrip().split('\\n')\n",
    "    for line in lines:\n",
    "        words = line.split(' ')\n",
    "        if words[0].islower: \n",
    "            endword = words[-1].rstrip('.!')\n",
    "        if endword!='': results.append(endword)\n",
    "    return results\n",
    "      \n",
    "def test_slice_and_dice_default_text():\n",
    "    expected = ['objects', 'y', 'too', ':)', 'bites']\n",
    "    assert slice_and_dice(text) == expected\n",
    "\n",
    "\n",
    "def test_slice_and_dice_other_text():\n",
    "    expected = ['off','block','word','list','first','list']\n",
    "    assert slice_and_dice(another_text) == expected\n",
    "\n",
    "try:\n",
    "    test_slice_and_dice_default_text()\n",
    "    print('Success on text')\n",
    "except:\n",
    "    print('Failed on text')\n",
    "try:\n",
    "    test_slice_and_dice_other_text()\n",
    "    print('Success on other text')\n",
    "except:\n",
    "    print('Failed on other text')\n"
   ]
  },
  {
   "cell_type": "code",
   "execution_count": null,
   "metadata": {
    "scrolled": true
   },
   "outputs": [],
   "source": [
    "#bite 106\n",
    "\n",
    "text = \"\"\"\n",
    "The Zen of Python, by Tim Peters\n",
    "\n",
    "Beautiful is better than ugly.\n",
    "Explicit is better than implicit.\n",
    "Simple is better than complex.\n",
    "Complex is better than complicated.\n",
    "Flat is better than nested.\n",
    "Sparse is better than dense.\n",
    "Readability counts.\n",
    "Special cases aren't special enough to break the rules.\n",
    "Although practicality beats purity.\n",
    "Errors should never pass silently.\n",
    "Unless explicitly silenced.\n",
    "In the face of ambiguity, refuse the temptation to guess.\n",
    "There should be one-- and preferably only one --obvious way to do it.\n",
    "Although that way may not be obvious at first unless you're Dutch.\n",
    "Now is better than never.\n",
    "Although never is often better than *right* now.\n",
    "If the implementation is hard to explain, it's a bad idea.\n",
    "If the implementation is easy to explain, it may be a good idea.\n",
    "Namespaces are one honking great idea -- let's do more of those!\n",
    "\"\"\"\n",
    "vowels = 'aeiou'\n",
    "\n",
    "\n",
    "def strip_vowels(text: str) -> (str, int):\n",
    "    \"\"\"Replace all vowels in the input text string by a star\n",
    "       character (*).\n",
    "       Return a tuple of (replaced_text, number_of_vowels_found)\n",
    "\n",
    "       So if this function is called like:\n",
    "       strip_vowels('hello world')\n",
    "\n",
    "       ... it would return:\n",
    "       ('h*ll* w*rld', 3)\n",
    "\n",
    "       The str/int types in the function defintion above are part\n",
    "       of Python's new type hinting:\n",
    "       https://docs.python.org/3/library/typing.html\"\"\"\n",
    "    ct=0\n",
    "    text2=''\n",
    "    for letter in text:\n",
    "        if letter in vowels or letter.lower() in vowels:\n",
    "            letter='*'\n",
    "            ct+=1\n",
    "        else:\n",
    "            pass\n",
    "        text2+=letter\n",
    "    return (text2, ct)\n",
    "    \n",
    "print(strip_vowels(text))"
   ]
  },
  {
   "cell_type": "code",
   "execution_count": null,
   "metadata": {
    "scrolled": true
   },
   "outputs": [],
   "source": []
  },
  {
   "cell_type": "code",
   "execution_count": null,
   "metadata": {
    "scrolled": true
   },
   "outputs": [],
   "source": []
  },
  {
   "cell_type": "code",
   "execution_count": null,
   "metadata": {
    "scrolled": true
   },
   "outputs": [],
   "source": []
  },
  {
   "cell_type": "code",
   "execution_count": null,
   "metadata": {
    "scrolled": true
   },
   "outputs": [],
   "source": [
    "a=[1,2,3]\n",
    "b='2'\n",
    "a.insert(0,b)"
   ]
  },
  {
   "cell_type": "code",
   "execution_count": null,
   "metadata": {
    "scrolled": true
   },
   "outputs": [],
   "source": [
    "a"
   ]
  },
  {
   "cell_type": "code",
   "execution_count": null,
   "metadata": {
    "scrolled": true
   },
   "outputs": [],
   "source": [
    "#  bite 8\n",
    "\n",
    "from collections import namedtuple\n",
    "\n",
    "BeltStats = namedtuple('BeltStats', 'score ninjas')\n",
    "ninja_belts = {'yellow': BeltStats(50, 11),\n",
    "               'orange': BeltStats(100, 7),\n",
    "               'green': BeltStats(175, 1),\n",
    "               'blue': BeltStats(250, 5),\n",
    "            'violet': BeltStats(175, 1),\n",
    "               'brown': BeltStats(250, 5)}\n",
    "\n",
    "def get_total_points(belts=ninja_belts):\n",
    "    \"\"\"Calculate the amount of points rewarded on PyBites given the\n",
    "       ninja_belts dictionary, formula: belt score x belt owners (aka ninjas)\n",
    "       (of course there are more points but let's keep it simple)\n",
    "\n",
    "       Make your code generic so if we update ninja_belts to include\n",
    "       more belts (which we do in the tests) it will still work.\n",
    "\n",
    "       Ah and you can get score and ninjas from the namedtuple with nice\n",
    "       attribute access: belt.score / belt.ninjas (reason why we get\n",
    "       you familiar with namedtuple here, because we love them and use\n",
    "       them all over the place!)\n",
    "\n",
    "       Return the total number of points int from the function.\"\"\"\n",
    "    totalpoints=0\n",
    "    print(belts)\n",
    "    for color in belts:\n",
    "        totalpoints+=belts[color].score*belts[color].ninjas\n",
    "#        totalpoints+=belts[color][0]*belts[color][1]\n",
    "    return totalpoints\n",
    "\n",
    "get_total_points()"
   ]
  },
  {
   "cell_type": "code",
   "execution_count": null,
   "metadata": {
    "scrolled": true
   },
   "outputs": [],
   "source": [
    "#bite 9\n",
    "workout_schedule = {'Friday': 'Shoulders',\n",
    "                    'Monday': 'Chest+biceps',\n",
    "                    'Saturday': 'Rest',\n",
    "                    'Sunday': 'Rest',\n",
    "                    'Thursday': 'Legs',\n",
    "                    'Tuesday': 'Back+triceps',\n",
    "                    'Wednesday': 'Core'}\n",
    "rest, chill, go_train = 'Rest', 'Chill out!', 'Go train {}'\n",
    "\n",
    "\n",
    "def get_workout_motd(day):\n",
    "\n",
    "    \"\"\"First title case the passed in day argument\n",
    "       (so monday or MONDAY both result in Monday).\n",
    "\n",
    "       Then check if this title cased day is in the given workout_schedule dict.\n",
    "\n",
    "       If it is retrieve the workout (value), if not raise a KeyError.\n",
    "\n",
    "       Return the chill variable if it's a rest day (Saturday / Sunday),\n",
    "       else return the go_train variable with the workout interpolated.\n",
    "\n",
    "       Examples:\n",
    "       - if day is Saturday -> return 'Chill out!'\n",
    "       - if day is Thursday -> return 'Go train Legs'\n",
    "       - if day is Sunday -> return 'Chill out!'\n",
    "       - if day is Monday -> return 'Go train Chest+biceps'\n",
    "\n",
    "       Trivia: /etc/motd is a file on Unix-like systems that contains\n",
    "       a 'message of the day'\"\"\"\n",
    "    day=day.title()\n",
    "    if day in workout_schedule:\n",
    "            todo=workout_schedule[day]\n",
    "            if todo=='Rest': \n",
    "                return chill            \n",
    "            else:\n",
    "                return(go_train.rstrip('{}')+todo)\n",
    "    else:\n",
    "            return 'No such day'\n",
    "\n",
    "import calendar\n",
    "days=list(calendar.day_name)\n",
    "days.append('Notaday')\n",
    "for day in days:\n",
    "    print(f'{day}: {get_workout_motd(day)}')\n",
    "          "
   ]
  },
  {
   "cell_type": "code",
   "execution_count": null,
   "metadata": {
    "scrolled": true
   },
   "outputs": [],
   "source": [
    "#bite10\n",
    "\n",
    "def divide_numbers(num, den):\n",
    "    \"\"\"For this exercise you can assume numerator and denominator are of type\n",
    "       int/str/float.\n",
    "       Try to convert numerator and denominator to int types, if that raises a\n",
    "       ValueError reraise it. Following do the division and return the result.\n",
    "       However if denominator is 0 catch the corresponding exception Python\n",
    "       throws (cannot divide by 0), and return 0\"\"\"\n",
    "    \n",
    "    try:\n",
    "        return int(float(num))/int(float(den))\n",
    "    except ZeroDivisionError:\n",
    "        return 0\n",
    "\n",
    "divide_numbers('0.',0.1)"
   ]
  },
  {
   "cell_type": "code",
   "execution_count": null,
   "metadata": {
    "scrolled": true
   },
   "outputs": [],
   "source": [
    "#volume of n-dim sphere etc\n",
    "\n",
    "from matplotlib.pyplot import plot, show, figure\n",
    "from math import pi, gamma\n",
    "def voln(r,n):\n",
    "    return pi**(n/2)/gamma(n/2.+1)*r**n\n",
    "def rvoln(vol,n):\n",
    "    return (gamma(n/2.+1)/pi**(n/2))**(1./n)\n",
    "\n",
    "volin=0.1\n",
    "r=1.\n",
    "nn=15\n",
    "\n",
    "vol=[]\n",
    "for n in range(1,nn):\n",
    "    vol.append(voln(r,n))\n",
    "plot(range(1,nn),vol)\n",
    "\n",
    "figure(2)\n",
    "for volin in range(10):\n",
    "    rr=[]\n",
    "    for n in range(1,nn):\n",
    "        rr.append(rvoln(volin,n))\n",
    "    plot(range(1,nn),rr)\n",
    "show()\n"
   ]
  },
  {
   "cell_type": "code",
   "execution_count": null,
   "metadata": {
    "scrolled": true
   },
   "outputs": [],
   "source": [
    "voln(1,4)"
   ]
  },
  {
   "cell_type": "code",
   "execution_count": null,
   "metadata": {
    "scrolled": true
   },
   "outputs": [],
   "source": [
    "from numpy import arange,linspace\n",
    "x=linspace(0.01,6,1000)\n",
    "gg=[]\n",
    "for xx in x:\n",
    "    gg.append(gamma(xx))\n",
    "plot(x,gg)\n",
    "show()"
   ]
  },
  {
   "cell_type": "code",
   "execution_count": null,
   "metadata": {
    "scrolled": true
   },
   "outputs": [],
   "source": [
    "1-(0.95-0.05)**50"
   ]
  },
  {
   "cell_type": "code",
   "execution_count": null,
   "metadata": {
    "scrolled": true
   },
   "outputs": [],
   "source": []
  },
  {
   "cell_type": "code",
   "execution_count": null,
   "metadata": {
    "scrolled": true
   },
   "outputs": [],
   "source": []
  },
  {
   "cell_type": "code",
   "execution_count": null,
   "metadata": {
    "scrolled": true
   },
   "outputs": [],
   "source": [
    "###\n",
    "# the zip function, tadaaaa!\n",
    "\n",
    "n=5\n",
    "a=[i for i in range(n)]\n",
    "b=[chr(i) for i in range(80,80+n)]\n",
    "z=zip(a,b)\n",
    "\n",
    "print('first loop')\n",
    "for i,x in enumerate(a):\n",
    "    try:\n",
    "        print(i,next(z))\n",
    "    except:\n",
    "        print(i,'z over')\n",
    "\n",
    "print('second loop')\n",
    "for i,x in enumerate(a):\n",
    "    try:\n",
    "        print(i,next(z))\n",
    "    except:\n",
    "        print(i,'z used up')\n",
    "\n",
    "print(f'\\n ziplongest')\n",
    "from itertools import zip_longest\n",
    "\n",
    "a=[i for i in range(5,20)]\n",
    "b=[chr(i) for i in range(80,85)]\n",
    "print(f'len(a)={len(a)},len(b)={len(b)}')\n",
    "\n",
    "z=zip_longest(a,b)\n",
    "\n",
    "for i in range(max(len(a),len(b))):\n",
    "    try:\n",
    "        print(i,next(z))\n",
    "    except:\n",
    "        print(i,'z over')\n",
    "\n",
    "print('\\nunpack in loop')\n",
    "for n,l in zip(a,b):\n",
    "    print(f'Letter:{l}, number:{n}')\n",
    "    \n",
    "    \n",
    "print('\\n multiitem zip (note length limited by shortest)')\n",
    "c=['*','/','+']\n",
    "for n,l,o in zip(a,b,c):\n",
    "    print(f'Letter:{l}, number:{n}, operator:{o}')\n",
    "\n",
    "print('\\n multiitem zip (note length limited by longest)')\n",
    "c=['*','/','+']\n",
    "for n,l,o in zip_longest(a,b,c):\n",
    "    print(f'Letter:{l}, number:{n}, operator:{o}')"
   ]
  },
  {
   "cell_type": "code",
   "execution_count": null,
   "metadata": {
    "scrolled": true
   },
   "outputs": [],
   "source": [
    "# zip, dicts\n",
    "a=['pippo','topolino','paperino']\n",
    "b=[1,2,3]\n",
    "\n",
    "d=dict(zip(a,b))\n",
    "for k in d:\n",
    "    print(k,d[k])\n",
    "print(type(d),'\\n')\n",
    "    \n",
    "for k1,v1 in zip(a,b):\n",
    "    print(k1,v1)"
   ]
  },
  {
   "cell_type": "code",
   "execution_count": null,
   "metadata": {
    "scrolled": true
   },
   "outputs": [],
   "source": [
    "# zip, dicts iter\n",
    "a=['pippo','topolino','paperino']\n",
    "b=[1,2,3]\n",
    "d=dict(zip(a,b))\n",
    "\n",
    "a1=['pippa','topolina','paperina']\n",
    "b1=[4,5,6]\n",
    "d1=dict(zip(a1,b1))\n",
    "\n",
    "dd=zip(d.items(),d1.items())\n",
    "      \n",
    "for (k,v),(k1,v1) in dd:\n",
    "    print(k,v)\n",
    "    print(k1,v1)\n",
    "\n",
    "# zip: unzip\n",
    "pair=list(zip(a,b))\n",
    "print(pair)\n",
    "n,l=zip(*pair)\n",
    "print(n,l)\n",
    "\n",
    "#zip: sort in parallel\n",
    "# done by first argument\n",
    "\n",
    "lett = ['b', 'a', 'd', 'c']\n",
    "numb = [2, 4, 3, 1]\n",
    "\n",
    "data1=list(zip(lett,numb))\n",
    "print(data1)\n",
    "data1.sort()\n",
    "data2=list(zip(numb,lett))\n",
    "data2.sort()\n",
    "\n",
    "print('\\ndata1',data1)\n",
    "print('data2',data2)\n",
    "\n",
    "#o anche: sorted(zip(lett,numb))\n",
    "print(data1==sorted(zip(lett,numb)))\n",
    "print(data2==sorted(zip(numb,lett)))\n"
   ]
  },
  {
   "cell_type": "code",
   "execution_count": null,
   "metadata": {
    "scrolled": true
   },
   "outputs": [],
   "source": [
    "#funny way of plotting...\n",
    "\n",
    "from numpy import linspace, sin\n",
    "from matplotlib.pyplot import plot, show\n",
    "a=linspace(0,10,100)\n",
    "b=sin(a)\n",
    "dum=[]\n",
    "for x,y in zip(a,b):\n",
    "    dum.append(y*x)\n",
    "plot(a,dum)\n",
    "show()"
   ]
  },
  {
   "cell_type": "code",
   "execution_count": null,
   "metadata": {
    "scrolled": true
   },
   "outputs": [],
   "source": [
    "#bite 1 beginner\n",
    "def sum_numbers(numbers=None):\n",
    "    if numbers==None:\n",
    "        numbers=[i for i in range(1,101)]\n",
    "    sum=0\n",
    "    for i in range(len(numbers)):\n",
    "        sum+=numbers[i]\n",
    "    return sum\n",
    "sum_numbers([i for i in range(1,101)])\n",
    "sum_numbers(None)"
   ]
  },
  {
   "cell_type": "code",
   "execution_count": null,
   "metadata": {
    "scrolled": true
   },
   "outputs": [],
   "source": []
  },
  {
   "cell_type": "code",
   "execution_count": null,
   "metadata": {
    "scrolled": true
   },
   "outputs": [],
   "source": [
    "#bite 2 beginner - not so much..\n",
    "\n",
    "NAMES = ['arnold schwarzenegger', 'alec baldwin', 'bob belderbos',\n",
    "         'julian sequeira', 'sandra bullock', 'keanu reeves',\n",
    "         'julbob pybites', 'bob belderbos', 'julian sequeira',\n",
    "         'al pacino', 'brad pitt', 'matt damon', 'brad pitt']\n",
    "def dedup_and_title_case_names(names):\n",
    "    nms=[]\n",
    "    for x in set(names):\n",
    "        nms.append(x.title())\n",
    "    return nms\n",
    "\n",
    "def sort_by_surname_desc(names):\n",
    "    names = dedup_and_title_case_names(names)\n",
    "    given=[];sur=[]\n",
    "    for x in names:\n",
    "        given.append(x.split()[0])\n",
    "        sur.append(x.split()[1])\n",
    "    nms=sorted(zip(sur,given),reverse=True)\n",
    "    nm=[]\n",
    "    for i,x in enumerate(nms):\n",
    "        nm.append(x[1]+' '+x[0])\n",
    "    return nm\n",
    "\n",
    "def shortest_first_name(names):\n",
    "    names = dedup_and_title_case_names(names)\n",
    "    short=10*' '\n",
    "    for x in names:\n",
    "        if len(x.split()[0])<len(short):\n",
    "            short=x.split()[0]\n",
    "    return short\n"
   ]
  },
  {
   "cell_type": "code",
   "execution_count": null,
   "metadata": {
    "scrolled": true
   },
   "outputs": [],
   "source": [
    "\n",
    "\n"
   ]
  },
  {
   "cell_type": "code",
   "execution_count": null,
   "metadata": {
    "scrolled": true
   },
   "outputs": [],
   "source": [
    "# bite 3 intermediate - scrabble scores\n",
    "\n",
    "import string\n",
    "import os\n",
    "import urllib.request\n",
    "\n",
    "# PREWORK\n",
    "DICTIONARY = os.path.join('/tmp', 'dictionary.txt')\n",
    "urllib.request.urlretrieve('http://bit.ly/2iQ3dlZ', DICTIONARY)\n",
    "scrabble_scores = [(1, \"E A O I N R T L S U\"), (2, \"D G\"), (3, \"B C M P\"),\n",
    "                   (4, \"F H V W Y\"), (5, \"K\"), (8, \"J X\"), (10, \"Q Z\")]\n",
    "LETTER_SCORES = {letter: score for score, letters in scrabble_scores\n",
    "                 for letter in letters.split()}\n",
    "\n",
    "def load_words():\n",
    "    \"\"\"Load the words dictionary (DICTIONARY \n",
    "    constant) into a list and return it\"\"\"\n",
    "    words=[]\n",
    "    f=open(DICTIONARY)\n",
    "    size = sum(1 for line in f)\n",
    "    f.seek(0)\n",
    "    for _ in range(size):\n",
    "        words.append(f.readline().rstrip('\\n'))\n",
    "    f.close()\n",
    "    return words\n",
    "\n",
    "def calc_word_value(words):\n",
    "    \"\"\"Given a word calculate its value \n",
    "    using the LETTER_SCORES dict\"\"\"\n",
    "    val=0\n",
    "    for word in words:\n",
    "        for x in word:\n",
    "            if x in LETTER_SCORES:\n",
    "                val+=LETTER_SCORES[x]\n",
    "            if x in string.ascii_lowercase:\n",
    "                val+=LETTER_SCORES[x.upper()]\n",
    "    return val\n",
    "\n",
    "def max_word_value(words):\n",
    "    \"\"\"Given a list of words calculate the word with the maximum value and return it\"\"\"\n",
    "    vmax=-1000\n",
    "    for word in words:\n",
    "        val = calc_word_value(word)\n",
    "        if val > vmax:\n",
    "            wmax,vmax = word, val\n",
    "    return wmax\n",
    "\n",
    "words=load_words()\n",
    "max_word_value(words)"
   ]
  },
  {
   "cell_type": "code",
   "execution_count": null,
   "metadata": {
    "scrolled": true
   },
   "outputs": [],
   "source": [
    "# BAMM analytics in python - requests\n",
    "\n",
    "import requests\n",
    "response = requests.get('https://en.wikipedia.org/wiki/main_page')\n",
    "if response:\n",
    "    print('Success getting')\n",
    "else:\n",
    "    print('Failure getting')\n",
    "src='Did you know'\n",
    "if (str(response.content).find(src))>=0: \n",
    "    print('Success retrieving')\n",
    "else:\n",
    "    print('Failure retrieving')"
   ]
  },
  {
   "cell_type": "code",
   "execution_count": null,
   "metadata": {
    "scrolled": true
   },
   "outputs": [],
   "source": []
  },
  {
   "cell_type": "code",
   "execution_count": null,
   "metadata": {
    "scrolled": true
   },
   "outputs": [],
   "source": [
    "import requests\n",
    "url='http://www.epicurious.com/search/lasagna'\n",
    "response= requests.get(url)\n",
    "print(response.status_code)\n",
    "if response.status_code==200:\n",
    "    print('success')"
   ]
  },
  {
   "cell_type": "code",
   "execution_count": null,
   "metadata": {
    "scrolled": true
   },
   "outputs": [],
   "source": [
    "#json in python - real python"
   ]
  },
  {
   "cell_type": "code",
   "execution_count": null,
   "metadata": {
    "scrolled": true
   },
   "outputs": [],
   "source": [
    "#dump write to filelike in json\n",
    "#dumps write to a string in json forast"
   ]
  },
  {
   "cell_type": "code",
   "execution_count": null,
   "metadata": {
    "scrolled": true
   },
   "outputs": [],
   "source": [
    "%%html\n",
    "<img src=\"./py-js.png\">"
   ]
  },
  {
   "cell_type": "code",
   "execution_count": null,
   "metadata": {
    "scrolled": true
   },
   "outputs": [],
   "source": []
  },
  {
   "cell_type": "code",
   "execution_count": null,
   "metadata": {
    "scrolled": true
   },
   "outputs": [],
   "source": [
    "#serialize: python => json\n",
    "\n",
    "import json\n",
    "data = {\"user\":{\"name\":\"William Williams\", \"age\":93}}\n",
    "with open (\"data_file.json\",\"w\") as writefile:\n",
    "    json.dump(data,writefile,indent=4)\n",
    "\n",
    "jsonstr=json.dumps(data,indent=4)\n",
    "print(jsonstr)"
   ]
  },
  {
   "cell_type": "code",
   "execution_count": null,
   "metadata": {
    "scrolled": true
   },
   "outputs": [],
   "source": [
    "%%html\n",
    "<img src=\"./js-py.png\">\n"
   ]
  },
  {
   "cell_type": "code",
   "execution_count": null,
   "metadata": {
    "scrolled": true
   },
   "outputs": [],
   "source": [
    "# deserialize: json -> python\n",
    "# may not return the exact object you serialize\n",
    "\n",
    "import json\n",
    "blackjack_hand = (8,\"Q\")\n",
    "encoded_hand = json.dumps(blackjack_hand)\n",
    "decoded_hand = json.loads(encoded_hand)\n"
   ]
  },
  {
   "cell_type": "code",
   "execution_count": null,
   "metadata": {
    "scrolled": true
   },
   "outputs": [],
   "source": [
    "print(type(decoded_hand),type(blackjack_hand))\n",
    "print(blackjack_hand==tuple(decoded_hand))"
   ]
  },
  {
   "cell_type": "code",
   "execution_count": null,
   "metadata": {
    "scrolled": true
   },
   "outputs": [],
   "source": [
    "#get json data from web\n",
    "\n",
    "import json\n",
    "import requests\n",
    "response = requests.get('http://jsonplaceholder.typicode.com/todos')\n",
    "if not response: raise BaseException(\"not reading correctly\")\n",
    "\n",
    "todos = json.loads(response.content) \n",
    "\n",
    "# bla = json.loads(response.text)\n",
    "# print(json.dumps(todos[:2],indent=4))\n",
    "\n",
    "todos_by_user = {}\n",
    "\n",
    "for todo in todos:\n",
    "    if todo[\"completed\"]:\n",
    "        try:\n",
    "            todos_by_user[todo[\"userId\"]] += 1\n",
    "        except KeyError:\n",
    "            todos_by_user[todo[\"userId\"]] = 1\n",
    "\n",
    "## mode 1\n",
    "# top_users = sorted(todos_by_user.items(),key=lambda x:x[1],reverse=True)\n",
    "## mode 2\n",
    "top_users = sorted(zip(todos_by_user.values(),todos_by_user.keys()),reverse=True)\n",
    "\n",
    "##mode 1\n",
    "# max_compl=top_users[0][1]\n",
    "##mode 2\n",
    "max_compl = top_users[0][0]\n",
    "\n",
    "users=[]\n",
    "## mode 1\n",
    "# for numcomplete, user in top_users:\n",
    "## mode 2\n",
    "for numcomplete, user in top_users:\n",
    "    if numcomplete < max_compl:\n",
    "        break\n",
    "    users.append(str(user))\n",
    "    \n",
    "max_users = ' and '.join(users)\n",
    "print(f'User(s) {max_users} completed {max_compl} TODOs.')\n",
    "\n",
    "def keep(todo):\n",
    "    is_complete = todo[\"completed\"]\n",
    "    has_max_count = str(todo[\"userId\"]) in users\n",
    "    return is_complete and has_max_count\n",
    "\n",
    "with open(\"filtered_data.json\",\"w\") as data_file:\n",
    "    filtered_todos = list(filter(keep,todos))\n",
    "    json.dump(filtered_todos,data_file,indent=2)\n",
    "    \n",
    "print(f'Dumped todos of max-compl-todo users to {data_file.name}')\n",
    "\n"
   ]
  },
  {
   "cell_type": "code",
   "execution_count": null,
   "metadata": {
    "scrolled": true
   },
   "outputs": [],
   "source": [
    "#sandbox\n",
    "print(todos[0][\"completed\"])\n",
    "print(todos_by_user,'\\n',\n",
    "      sorted(zip(todos_by_user.values(),todos_by_user.keys()),reverse=True),'\\n',\n",
    "      # by values, but \n",
    "      sorted(todos_by_user.items(),reverse=True),'\\n', # by key\n",
    "      sorted(todos_by_user.items(),key=lambda x:x[1],reverse=True),'\\n', #by value n.1\n",
    "     top_users)"
   ]
  },
  {
   "cell_type": "code",
   "execution_count": null,
   "metadata": {
    "scrolled": true
   },
   "outputs": [],
   "source": [
    "print(dir(data_file))"
   ]
  },
  {
   "cell_type": "code",
   "execution_count": null,
   "metadata": {
    "scrolled": true
   },
   "outputs": [],
   "source": [
    "#non serializable type\n",
    "\n",
    "import json\n",
    "\n",
    "class Person:\n",
    "    def __init__(self,name,age):\n",
    "        self.name = name\n",
    "        self.age = age\n",
    "        \n",
    "pippo = Person(\"Will\",29)\n",
    "\n",
    "## same with complex\n",
    "\n",
    "# pippo = 1+3j\n",
    "\n",
    "try: #class obj not serializable\n",
    "    json_str = json.dumps(pippo)\n",
    "    print(json_str)\n",
    "except TypeError:\n",
    "    print('Not serializable')\n",
    "\n",
    "\n",
    "\n"
   ]
  },
  {
   "cell_type": "code",
   "execution_count": null,
   "metadata": {
    "scrolled": true
   },
   "outputs": [],
   "source": [
    "# encode non serializable types\n",
    "\n",
    "import json\n",
    "\n",
    "def complex_encoder(z):\n",
    "    \n",
    "    if isinstance(z,complex):\n",
    "        return (z.real,z.imag)\n",
    "    else:\n",
    "        z_type = z.__class__.__name__\n",
    "        raise TypeError(f'{z_type} object not serializable')\n",
    "\n",
    "        \n",
    "class ComplexEncoder(json.JSONEncoder):\n",
    "    def default(self,z):\n",
    "            if isinstance(z,complex):\n",
    "                return (z.real,z.imag)\n",
    "            else:\n",
    "                super().default(self,z)\n",
    "    \n",
    "    \n",
    "json_str = json.dumps(6+3j, default=complex_encoder)       \n",
    "\n",
    "### or \n",
    "#json_str = json.dumps(6+3j, cls=ComplexEncoder)\n",
    "\n",
    "### this fails as it should\n",
    "# json_str = json.dumps(Person(\"don\",3), default=complex_encoder)\n",
    "### this works\n",
    "# json_str = json.dumps('pippo',default=complex_encoder)\n",
    "\n",
    "print(json_str)"
   ]
  },
  {
   "cell_type": "code",
   "execution_count": null,
   "metadata": {
    "scrolled": true
   },
   "outputs": [],
   "source": []
  },
  {
   "cell_type": "code",
   "execution_count": null,
   "metadata": {
    "scrolled": true
   },
   "outputs": [],
   "source": [
    "import json\n",
    "#decode custom types\n",
    "\n",
    "def decode_complex(dct):\n",
    "\n",
    "    cmp=\"__complex__\"\n",
    "    if cmp in dct and dct[cmp]:\n",
    "        return complex(dct[\"real\"],dct[\"imaginary\"])\n",
    "    else:\n",
    "        return dct\n",
    "\n",
    "with open(\"data_file.json\") as c_data:\n",
    "    data = c_data.read()\n",
    "print(data)\n",
    "z = json.loads(data,object_hook=decode_complex)\n",
    "print(type(z),z)\n"
   ]
  },
  {
   "cell_type": "code",
   "execution_count": null,
   "metadata": {
    "scrolled": true
   },
   "outputs": [],
   "source": [
    "## bite 30 intermediate \n",
    "## analyze movie data\n",
    "##    sandbox\n",
    "\n",
    "from collections import defaultdict, namedtuple\n",
    "\n",
    "Movie = namedtuple('Movie', 'title year score')\n",
    "\n",
    "a=Movie('pino','1980','7.0')\n",
    "a2=Movie('pino2','1982','8.0')\n",
    "a3=Movie('pino3','1983','9.0')\n",
    "A=[a,a2,a3]\n",
    "\n",
    "dic={}\n",
    "for a in A:\n",
    "    print(type(a))\n",
    "    if 'Gigi' not in dic:\n",
    "        dic['Gigi']=[a]\n",
    "        print(dic)\n",
    "    else:\n",
    "        dic['Gigi']+=[a]\n",
    "        print(dic) \n",
    "sc=[]\n",
    "for i,val in enumerate(dic['Gigi']):\n",
    "    sc.append(float(val.score))\n",
    "print(sc)\n",
    "print(max(sc))"
   ]
  },
  {
   "cell_type": "code",
   "execution_count": null,
   "metadata": {
    "scrolled": true
   },
   "outputs": [],
   "source": [
    "## bite 30 intermediate \n",
    "## analyze movie data\n",
    "\n",
    "import csv\n",
    "from collections import defaultdict, namedtuple\n",
    "import os\n",
    "from urllib.request import urlretrieve\n",
    "\n",
    "BASE_URL = 'http://projects.bobbelderbos.com/pcc/movies/'\n",
    "TMP = '/tmp'\n",
    "\n",
    "fname = 'movie_metadata.csv'\n",
    "remote = os.path.join(BASE_URL, fname)\n",
    "local = os.path.join(TMP, fname)\n",
    "urlretrieve(remote, local)\n",
    "\n",
    "MOVIE_DATA = local\n",
    "MIN_MOVIES = 4\n",
    "MIN_YEAR = 1960\n",
    "\n",
    "Movie = namedtuple('Movie', 'title year score')\n",
    "\n",
    "\n",
    "def get_movies_by_director():\n",
    "    \"\"\"Extracts all movies from csv and stores them in a dict,\n",
    "    where keys are directors, and values are a list of movies,\n",
    "    use the defined Movie namedtuple\"\"\"\n",
    "    \n",
    "    filmdict={}\n",
    "    \n",
    "    with open(MOVIE_DATA) as csvfile:\n",
    "        reader = csv.DictReader(csvfile)\n",
    "        for row in reader:\n",
    "            yr=row['title_year']\n",
    "            if yr=='': yr='1900'\n",
    "            if int(yr)>=MIN_YEAR:\n",
    "                dire = row['director_name']\n",
    "                score = row['imdb_score']\n",
    "                title = row['movie_title']\n",
    "                if dire not in filmdict:\n",
    "                    filmdict[dire] = [Movie(title,yr,score)]\n",
    "                else:\n",
    "                    filmdict[dire] += [Movie(title,yr,score)]         \n",
    "    return filmdict\n",
    "\n",
    "\n",
    "def calc_mean_score(movies):\n",
    "    \"\"\"Helper method to calculate mean of list of Movie namedtuples,\n",
    "       round the mean to 1 decimal place\"\"\"\n",
    "    sc=[]\n",
    "    for i,val in enumerate(movies):\n",
    "        sc.append(float(val.score))\n",
    "    return round(sum(sc)/len(sc),1)\n",
    "\n",
    "def get_average_scores(directors):\n",
    "    \"\"\"Iterate through the directors dict (returned by get_movies_by_director),\n",
    "       return a list of tuples (director, average_score) ordered by highest\n",
    "       score in descending order. Only take directors into account\n",
    "       with >= MIN_MOVIES\"\"\"\n",
    "    ldir=[]\n",
    "    for k in directors:\n",
    "        if len(directors[k]) >= MIN_MOVIES:\n",
    "            avescore = calc_mean_score(directors[k])\n",
    "            ldir.append((k,avescore))\n",
    "    ldir=sorted(ldir,key=lambda x:x[1],reverse=True)\n",
    "    return ldir\n"
   ]
  },
  {
   "cell_type": "code",
   "execution_count": null,
   "metadata": {
    "scrolled": true
   },
   "outputs": [],
   "source": []
  },
  {
   "cell_type": "code",
   "execution_count": null,
   "metadata": {
    "scrolled": true
   },
   "outputs": [],
   "source": [
    "# test code for movie analysis\n",
    "\n",
    "from collections import defaultdict\n",
    "\n",
    "director_movies = get_movies_by_director()\n",
    "\n",
    "def test_get_movies_by_director():\n",
    "    assert 'Sergio Leone' in director_movies\n",
    "    assert len(director_movies['Sergio Leone']) == 4\n",
    "    assert len(director_movies['Peter Jackson']) == 12\n",
    "\n",
    "def test_director_movies_data_structure():\n",
    "    assert type(director_movies) in (dict,defaultdict)\n",
    "    assert type(director_movies['Peter Jackson']) == list\n",
    "    assert type(director_movies['Peter Jackson'][0]) == Movie\n",
    "\n",
    "def test_calc_mean_score():\n",
    "    movies_sergio = director_movies['Sergio Leone']\n",
    "    movies_nolan = director_movies['Christopher Nolan']\n",
    "    assert calc_mean_score(movies_sergio) == 8.5\n",
    "    assert calc_mean_score(movies_nolan) == 8.4\n",
    "\n",
    "def test_get_average_scores():\n",
    "    # top 2\n",
    "    scores = get_average_scores(director_movies)\n",
    "    assert scores[0] == ('Sergio Leone', 8.5)\n",
    "    assert scores[1] == ('Christopher Nolan', 8.4)\n",
    "\n",
    "    # order / score might slightly change depending the way the mean\n",
    "    # is calculated so only test director names in top scores\n",
    "    directors = {score[0] for score in scores[2:13]}\n",
    "\n",
    "    assert 'Quentin Tarantino' in directors\n",
    "    assert 'Hayao Miyazaki' in directors\n",
    "    assert 'Frank Darabont' in directors\n",
    "    assert 'Stanley Kubrick' in directors\n",
    "    assert 'James Cameron' in directors\n",
    "    assert 'Joss Whedon' in directors\n",
    "    assert 'Alejandro G. Iñárritu' in directors\n",
    "    \n",
    "test_get_movies_by_director()\n",
    "test_director_movies_data_structure()\n",
    "test_calc_mean_score()\n",
    "test_get_average_scores()"
   ]
  },
  {
   "cell_type": "code",
   "execution_count": null,
   "metadata": {
    "scrolled": true
   },
   "outputs": [],
   "source": [
    "#bite 15 beginner\n",
    "#enumerate two lists\n",
    "\n",
    "names = 'Julian Bob PyBites Dante Martin Rodolfo'.split()\n",
    "countries = 'Australia Spain Global Argentina USA Mexico'.split()\n",
    "\n",
    "\n",
    "def enumerate_names_countries():\n",
    "    \"\"\"Outputs:\n",
    "       1. Julian     Australia\n",
    "       2. Bob        Spain\n",
    "       3. PyBites    Global\n",
    "       4. Dante      Argentina\n",
    "       5. Martin     USA\n",
    "       6. Rodolfo    Mexico\"\"\"\n",
    "    for i, val in enumerate(zip(names,countries)):\n",
    "        ct=str(i+1)+'.'\n",
    "        nam='{0: <10}'.format(val[0])\n",
    "        print(f'{ct} {nam} {val[1]}') \n",
    "\n",
    "### or \n",
    "#        ct=str(round(float(i+1),0)).rstrip('0')\n",
    "#        nam=val[0]\n",
    "#        while True:\n",
    "#            if len(nam)<10:\n",
    "#                nam+=' '\n",
    "#            else:\n",
    "#                break\n",
    "#        print(f'{ct} {nam} {val[1]}') \n",
    "\n",
    "\n",
    "       \n",
    "enumerate_names_countries()"
   ]
  },
  {
   "cell_type": "code",
   "execution_count": null,
   "metadata": {
    "scrolled": true
   },
   "outputs": [],
   "source": [
    "#bite 26 beginner\n",
    "# filter dictionary with dict comprehension\n",
    "# includes test code\n",
    "\n",
    "bites = {6: 'PyBites Die Hard',\n",
    "         7: 'Parsing dates from logs',\n",
    "         9: 'Palindromes',\n",
    "         10: 'Practice exceptions',\n",
    "         11: 'Enrich a class with dunder methods',\n",
    "         12: 'Write a user validation function',\n",
    "         13: 'Convert dict in namedtuple/json',\n",
    "         14: 'Generate a table of n sequences',\n",
    "         15: 'Enumerate 2 sequences',\n",
    "         16: 'Special PyBites date generator',\n",
    "         17: 'Form teams from a group of friends',\n",
    "         18: 'Find the most common word',\n",
    "         19: 'Write a simple property',\n",
    "         20: 'Write a context manager',\n",
    "         21: 'Query a nested data structure'}\n",
    "exclude_bites = {6, 10, 16, 18, 21}\n",
    "\n",
    "    \n",
    "#cool way\n",
    "def filter_bites(bites=bites, bites_done=exclude_bites):\n",
    "    return {i:bites[i] for i in bites if i not in bites_done}\n",
    "\n",
    "#another way\n",
    "def filter_bites_too(bites=bites, bites_done=exclude_bites):\n",
    "    \"\"\"return the bites dict with the exclude_bites filtered out\"\"\"\n",
    "    r = bites\n",
    "    for k in exclude_bites:\n",
    "        del r[k]\n",
    "    return r\n",
    "\n",
    "def test_filter_bites():\n",
    "    result = filter_bites()\n",
    "    assert type(result) == dict\n",
    "    assert len(result) == 10\n",
    "    for bite in exclude_bites:\n",
    "        assert bite not in result, f'Bite {bite} should not be in result'\n",
    "\n",
    "test_filter_bites()"
   ]
  },
  {
   "cell_type": "code",
   "execution_count": null,
   "metadata": {
    "scrolled": true
   },
   "outputs": [],
   "source": [
    "#tuples, namedtuples noodling\n",
    "\n",
    "student = 'Lisa','Simpson','A'\n",
    "print(student,type(student))\n",
    "first, last, grade = student\n",
    "from collections import namedtuple\n",
    "Student = namedtuple(\"Student\",\" first last grade\")\n",
    "named_student = Student(\"Lisa\",\"Simpson\",\"A\")\n",
    "print(named_student.last, named_student.grade)"
   ]
  },
  {
   "cell_type": "code",
   "execution_count": null,
   "metadata": {
    "scrolled": true
   },
   "outputs": [],
   "source": [
    "from math import sqrt\n",
    "Point=namedtuple('Point','x y z')\n",
    "r1=Point(1,3,4)\n",
    "r2=Point(3,4,5)\n",
    "d12 = sqrt((r1.x-r2.x)**2+(r1.y-r2.y)**2+(r1.z-r2.z)**2)\n",
    "r1,r2,d12"
   ]
  },
  {
   "cell_type": "code",
   "execution_count": null,
   "metadata": {
    "scrolled": true
   },
   "outputs": [],
   "source": [
    "class Point(namedtuple('Point', 'x y')):\n",
    "    \"\"\"adding functionality to a named tuple\"\"\"\n",
    "# this is for memory usage reduction\n",
    "    __slots__ = ()\n",
    "    @property\n",
    "    def edist(self):\n",
    "        \"\"\"returns eudlidean distance\"\"\"\n",
    "        return (self.x ** 2 + self.y ** 2) ** 0.5\n",
    "    def __str__(self):\n",
    "        return 'Point: x=%6.3f  y=%6.3f  d_from_0=%6.3f' % (self.x, self.y, self.edist)\n",
    "    @property\n",
    "    def modx(self):\n",
    "        \"\"\"returns absolute value of component x\"\"\"\n",
    "        return abs(self.x)\n",
    "    @property\n",
    "    def quadrant(self):\n",
    "        \"\"\" returns 1,2,3,4 for first, etc. quadrant\n",
    "            0 for the origin, -1 x axis, -2 y axis\"\"\"\n",
    "        qd=''\n",
    "        if (self.x>=0 and self.y>=0): q=1; qd='first'\n",
    "        if (self.x>=0 and self.y<=0): q=4; qd='fourth'\n",
    "        if (self.x<=0 and self.y>=0): q=2; qd='second'\n",
    "        if (self.x<=0 and self.y<=0): q=3; qd='third'\n",
    "        if (self.x==0 and self.y==0): q=0; qd='origin'\n",
    "        if (self.x==0 and self.y!=0): q=-1; qd='x axis'\n",
    "        if (self.x!=0 and self.y==0): q=-2; qd='y axis'\n",
    "        return q, qd\n",
    "            "
   ]
  },
  {
   "cell_type": "code",
   "execution_count": null,
   "metadata": {
    "scrolled": true
   },
   "outputs": [],
   "source": [
    "for i in range(-3,4):\n",
    "    for j in range(-3,4):\n",
    "        p=Point(i,j)\n",
    "        print(f'{p}, {round(p.edist,3)}, quadrant: {p.quadrant[1]}')"
   ]
  },
  {
   "cell_type": "code",
   "execution_count": null,
   "metadata": {
    "scrolled": true
   },
   "outputs": [],
   "source": []
  },
  {
   "cell_type": "code",
   "execution_count": null,
   "metadata": {
    "scrolled": false
   },
   "outputs": [],
   "source": [
    "help(Point)"
   ]
  },
  {
   "cell_type": "code",
   "execution_count": null,
   "metadata": {
    "scrolled": true
   },
   "outputs": [],
   "source": [
    "from collections import defaultdict\n",
    "ice_cream = defaultdict(lambda: 'Vanilla')\n",
    "ice_cream = defaultdict(lambda: 'Vanilla')\n",
    "ice_cream['Sarah'] = 'Chunky Monkey'\n",
    "ice_cream['Abdul'] = 'Butter Pecan'\n",
    "print(ice_cream['Sarah'])\n",
    "print(ice_cream)\n"
   ]
  },
  {
   "cell_type": "code",
   "execution_count": null,
   "metadata": {
    "scrolled": false
   },
   "outputs": [],
   "source": [
    "# db search, depends on local database, won't work for you\n",
    "# it strangely does not work for me either (in the nb at least) :/\n",
    "\n",
    "import pymongo\n",
    "from matplotlib.pyplot import plot, figure, show, legend, title\n",
    "from numpy import sqrt, asarray\n",
    "import argparse\n",
    "import sys\n",
    "db = pymongo.MongoClient(\"localhost\")[\"deformations\"] \n",
    "\n",
    "#db.authenticate(\"fiore\",\"fiore\")\n",
    "\n",
    "a = db.pockets_v3.find()[20]\n",
    "\n",
    "nfail1=0\n",
    "nfail2=0\n",
    "    \n",
    "for i in a:\n",
    "    try:\n",
    "        if i['spacegroup']['crystal_system']=='orthorhombic':\n",
    "            b=['-10','-5','-2','0','2','5','10']\n",
    "            for j in b:\n",
    "                try:\n",
    "                    m1= i['deformations'][j]['cb']['0']['0']['eff_mass']\n",
    "                    mu1 =i['deformations'][j]['cb']['0']['0']['multiplicity']\n",
    "                    w1 = i['deformations'][j]['cb']['0']['0']['weight']\n",
    "                    kp = i['deformations'][j]['cb']['0']['0']['coords']\n",
    "                    kpf = i['deformations'][j]['cb']['0']['0']['coords_fold']\n",
    "                    gap=i['deformations'][j]['gap']\n",
    "            #\n",
    "                    mc=3./(1/m1[0]+1/m1[1]+1/m1[2])\n",
    "                    mb=(m1[0]*m1[1]*m1[2])**0.333333\n",
    "                    Kv=(mb/mc)**1.5\n",
    "                    Nv=w1*mu1\n",
    "                    CF=Nv*Kv\n",
    "                    print(i[\"pretty_formula\"],CF)\n",
    "                except:\n",
    "                    nfail1+=1\n",
    "    except:\n",
    "        nfail2+=1\n",
    "        \n",
    "print('orthofail:',nfail2)         \n",
    "print('strainfail:',nfail1) \n",
    "\n"
   ]
  },
  {
   "cell_type": "code",
   "execution_count": null,
   "metadata": {
    "scrolled": true
   },
   "outputs": [],
   "source": [
    "#statistics and machine learning in python\n",
    "import numpy as np\n",
    "import scipy\n",
    "from sklearn.decomposition import PCA\n",
    "import matplotlib.pyplot as plt\n",
    "import seaborn as sns\n",
    "np.random.seed(42)\n",
    "n_samples=100\n",
    "experience = np.random.normal(size=n_samples)\n",
    "salary = 1500 + experience + np.random.normal(size=n_samples, scale=.5)"
   ]
  },
  {
   "cell_type": "code",
   "execution_count": null,
   "metadata": {},
   "outputs": [],
   "source": [
    "X = np.column_stack([experience,salary])\n",
    "X -= X.mean(axis=0)"
   ]
  },
  {
   "cell_type": "code",
   "execution_count": null,
   "metadata": {},
   "outputs": [],
   "source": [
    "U, s, Vh = scipy.linalg.svd(X,full_matrices=False)"
   ]
  },
  {
   "cell_type": "code",
   "execution_count": null,
   "metadata": {},
   "outputs": [],
   "source": [
    "plt.figure(figsize=(9,3)); \n",
    "plt.subplot(131); plt.scatter(X[:,0],X[:,1],s=50)\n",
    "plt.axis('equal')\n",
    "plt.title(\"U: Rotated and scaled data\")\n",
    "\n",
    "PC = np.dot(X,Vh.T)\n",
    "plt.subplot(132); plt.scatter(PC[:,0],PC[:,1],s=50)\n",
    "plt.axis('equal')\n",
    "plt.title(\"XV: Rotated data\")\n",
    "plt.xlabel(\"PC1\")\n",
    "plt.ylabel(\"PC2\")\n",
    "\n",
    "plt.subplot(133); \n",
    "plt.scatter(X[:,0],X[:,1],s=50)\n",
    "plt.axis('equal')\n",
    "plt.title(\"XV: orig, v1/v2:PC dir\")\n",
    "plt.ylim(-4,4)\n",
    "plt.xlabel(\"exp\")\n",
    "plt.ylabel(\"sal\")\n",
    "plt.show()"
   ]
  },
  {
   "cell_type": "code",
   "execution_count": null,
   "metadata": {},
   "outputs": [],
   "source": [
    "#palyndromes\n",
    "string='daasffsaad'\n",
    "gnirts=string[-1::-1]\n",
    "print(string,gnirts)\n",
    "assert string == gnirts\n"
   ]
  },
  {
   "cell_type": "code",
   "execution_count": null,
   "metadata": {},
   "outputs": [],
   "source": [
    "fname='/Users/fiore/Desktop/1-1000.txt' # none of these is paly, apparently\n",
    "words=[]\n",
    "with open(fname) as f:\n",
    "    words.append(f.read())\n",
    "words.append('anna')\n",
    "for word in words:\n",
    "    inverse=word[-1::-1]\n",
    "    if word == inverse:\n",
    "        print (f'{word} is palyndrome: {inverse}',flush=True)"
   ]
  },
  {
   "cell_type": "code",
   "execution_count": null,
   "metadata": {},
   "outputs": [],
   "source": []
  },
  {
   "cell_type": "code",
   "execution_count": 18,
   "metadata": {},
   "outputs": [
    {
     "data": {
      "image/png": "[encoded data removed]",
      "text/plain": [
       "<Figure size 432x288 with 1 Axes>"
      ]
     },
     "metadata": {
      "needs_background": "light"
     },
     "output_type": "display_data"
    }
   ],
   "source": [
    "# number of palyndromes in a range of natural #s\n",
    "# fit only makes sense in linear regions\n",
    "# slope changes at 10^n, n odd\n",
    "# and decreases tenfold at each inflection\n",
    "\n",
    "import matplotlib.pyplot as p\n",
    "import numpy as n\n",
    "def pal(n):\n",
    "    if str(n) == str(n)[-1::-1]: \n",
    "        return 1\n",
    "    else:\n",
    "        return 0\n",
    "\n",
    "def palslope(nmin,nmax):\n",
    "    npalt = []\n",
    "    nt = 0\n",
    "    nn = [i for i in range(nmin,nmax)]\n",
    "    for num in nn:\n",
    "        nt+=pal(num)\n",
    "        npalt.append(nt)\n",
    "    return n.polyfit(n.asarray(nn),n.asarray(npalt),1),npalt,nn\n",
    "\n",
    "nmin=1000;nmax=int(1e5)\n",
    "fit,npalt,nn = palslope(nmin,nmax)\n",
    "p.plot(nn,npalt)\n",
    "p.title(f'slope, interc: {round(fit[0],4),round(fit[1],4)}')\n",
    "p.show()\n"
   ]
  },
  {
   "cell_type": "code",
   "execution_count": 12,
   "metadata": {},
   "outputs": [],
   "source": []
  },
  {
   "cell_type": "code",
   "execution_count": null,
   "metadata": {},
   "outputs": [],
   "source": []
  },
  {
   "cell_type": "code",
   "execution_count": null,
   "metadata": {},
   "outputs": [],
   "source": []
  },
  {
   "cell_type": "code",
   "execution_count": null,
   "metadata": {},
   "outputs": [],
   "source": []
  }
 ],
 "metadata": {
  "kernelspec": {
   "display_name": "Python 3",
   "language": "python",
   "name": "python3"
  },
  "language_info": {
   "codemirror_mode": {
    "name": "ipython",
    "version": 3
   },
   "file_extension": ".py",
   "mimetype": "text/x-python",
   "name": "python",
   "nbconvert_exporter": "python",
   "pygments_lexer": "ipython3",
   "version": "3.7.2"
  }
 },
 "nbformat": 4,
 "nbformat_minor": 2
}
